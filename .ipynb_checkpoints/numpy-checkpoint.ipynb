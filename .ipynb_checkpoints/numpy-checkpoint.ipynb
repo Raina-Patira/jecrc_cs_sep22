{
 "cells": [
  {
   "cell_type": "code",
   "execution_count": 1,
   "id": "07092d57-63ad-46bf-b619-7561be88551d",
   "metadata": {},
   "outputs": [],
   "source": [
    "import numpy as np"
   ]
  },
  {
   "cell_type": "code",
   "execution_count": 3,
   "id": "94a5c42f-aa46-4819-bfc9-2cc628565baa",
   "metadata": {},
   "outputs": [],
   "source": [
    "a=np.array([])\n",
    "b=np.array([34,78,12])\n",
    "c=np.array([[12,3,45],[87,65,4]])"
   ]
  },
  {
   "cell_type": "code",
   "execution_count": 14,
   "id": "28c57606-dc15-4d43-902b-e70e0cd006f9",
   "metadata": {},
   "outputs": [
    {
     "data": {
      "text/plain": [
       "array([], dtype=float64)"
      ]
     },
     "execution_count": 14,
     "metadata": {},
     "output_type": "execute_result"
    }
   ],
   "source": [
    "a"
   ]
  },
  {
   "cell_type": "code",
   "execution_count": 13,
   "id": "fc3a1c51-15f8-4ae4-bbfc-fa01aeac74bd",
   "metadata": {},
   "outputs": [
    {
     "data": {
      "text/plain": [
       "array([34, 78, 12])"
      ]
     },
     "execution_count": 13,
     "metadata": {},
     "output_type": "execute_result"
    }
   ],
   "source": [
    "b"
   ]
  },
  {
   "cell_type": "code",
   "execution_count": 12,
   "id": "3b6923a8-b7f2-4609-bcef-0a3ed149db54",
   "metadata": {},
   "outputs": [
    {
     "data": {
      "text/plain": [
       "array([[12,  3, 45],\n",
       "       [87, 65,  4]])"
      ]
     },
     "execution_count": 12,
     "metadata": {},
     "output_type": "execute_result"
    }
   ],
   "source": [
    "c"
   ]
  },
  {
   "cell_type": "code",
   "execution_count": 11,
   "id": "c3e3886f-68b1-41a3-b6ab-ec80d034a1cc",
   "metadata": {},
   "outputs": [
    {
     "data": {
      "text/plain": [
       "array([], dtype=float64)"
      ]
     },
     "execution_count": 11,
     "metadata": {},
     "output_type": "execute_result"
    }
   ],
   "source": [
    "a"
   ]
  },
  {
   "cell_type": "code",
   "execution_count": 15,
   "id": "e1de16cb-077b-469f-b14f-4086d87bb75d",
   "metadata": {},
   "outputs": [
    {
     "data": {
      "text/plain": [
       "numpy.ndarray"
      ]
     },
     "execution_count": 15,
     "metadata": {},
     "output_type": "execute_result"
    }
   ],
   "source": [
    "type(a)"
   ]
  },
  {
   "cell_type": "code",
   "execution_count": 16,
   "id": "0c3d9e49-500f-4055-a3b5-dd330eb83df8",
   "metadata": {},
   "outputs": [
    {
     "data": {
      "text/plain": [
       "array([ 57, 123,  79])"
      ]
     },
     "execution_count": 16,
     "metadata": {},
     "output_type": "execute_result"
    }
   ],
   "source": [
    "b+[23,45,67]"
   ]
  },
  {
   "cell_type": "code",
   "execution_count": 17,
   "id": "76a72a11-6dee-46fc-87ef-526ea2e86190",
   "metadata": {},
   "outputs": [
    {
     "data": {
      "text/plain": [
       "numpy.ndarray"
      ]
     },
     "execution_count": 17,
     "metadata": {},
     "output_type": "execute_result"
    }
   ],
   "source": [
    "type(c)"
   ]
  },
  {
   "cell_type": "code",
   "execution_count": 18,
   "id": "aac31dce-1066-4c72-bb48-796c24afc228",
   "metadata": {},
   "outputs": [
    {
     "data": {
      "text/plain": [
       "array([34, 78, 12])"
      ]
     },
     "execution_count": 18,
     "metadata": {},
     "output_type": "execute_result"
    }
   ],
   "source": [
    "b"
   ]
  },
  {
   "cell_type": "code",
   "execution_count": 19,
   "id": "14d59480-68c1-43f7-a044-fadedd339d47",
   "metadata": {},
   "outputs": [
    {
     "data": {
      "text/plain": [
       "1"
      ]
     },
     "execution_count": 19,
     "metadata": {},
     "output_type": "execute_result"
    }
   ],
   "source": [
    "a.ndim"
   ]
  },
  {
   "cell_type": "code",
   "execution_count": 20,
   "id": "41bf8caf-594a-41bc-bae0-78050eaeba64",
   "metadata": {},
   "outputs": [
    {
     "data": {
      "text/plain": [
       "2"
      ]
     },
     "execution_count": 20,
     "metadata": {},
     "output_type": "execute_result"
    }
   ],
   "source": [
    "c.ndim"
   ]
  },
  {
   "cell_type": "code",
   "execution_count": 21,
   "id": "7de09e34-bc7b-4a4a-88d4-956f8cc03cff",
   "metadata": {},
   "outputs": [
    {
     "data": {
      "text/plain": [
       "6"
      ]
     },
     "execution_count": 21,
     "metadata": {},
     "output_type": "execute_result"
    }
   ],
   "source": [
    "c.size"
   ]
  },
  {
   "cell_type": "code",
   "execution_count": 23,
   "id": "98e35ae1-c6fe-401b-992d-87825be2801f",
   "metadata": {},
   "outputs": [
    {
     "data": {
      "text/plain": [
       "3"
      ]
     },
     "execution_count": 23,
     "metadata": {},
     "output_type": "execute_result"
    }
   ],
   "source": [
    "b.size"
   ]
  },
  {
   "cell_type": "code",
   "execution_count": 24,
   "id": "1898590c-0c89-469f-8bf8-aba3dd74a9c1",
   "metadata": {},
   "outputs": [
    {
     "data": {
      "text/plain": [
       "(2, 3)"
      ]
     },
     "execution_count": 24,
     "metadata": {},
     "output_type": "execute_result"
    }
   ],
   "source": [
    "c.shape"
   ]
  },
  {
   "cell_type": "code",
   "execution_count": 29,
   "id": "188eeae8-c3f9-4dee-b5a9-cd83c73f0664",
   "metadata": {},
   "outputs": [],
   "source": [
    "d=np.array([r.random(),r.random()])"
   ]
  },
  {
   "cell_type": "code",
   "execution_count": 26,
   "id": "7ced17fb-f8d6-4d3f-851e-d6ae178995a2",
   "metadata": {},
   "outputs": [],
   "source": [
    "import random as r"
   ]
  },
  {
   "cell_type": "code",
   "execution_count": 27,
   "id": "7db0eb63-104b-444d-8d91-8fb102a47568",
   "metadata": {},
   "outputs": [],
   "source": [
    "d=np.array([r.random(),r.random()])"
   ]
  },
  {
   "cell_type": "code",
   "execution_count": 28,
   "id": "fa05a75c-393e-458c-9d6e-6ea4eb9fa73b",
   "metadata": {},
   "outputs": [
    {
     "data": {
      "text/plain": [
       "array([0.25726312, 0.55120806])"
      ]
     },
     "execution_count": 28,
     "metadata": {},
     "output_type": "execute_result"
    }
   ],
   "source": [
    "d"
   ]
  },
  {
   "cell_type": "code",
   "execution_count": null,
   "id": "e6141deb-6f33-410d-8c67-7e41eb1e5b12",
   "metadata": {
    "tags": []
   },
   "outputs": [],
   "source": []
  }
 ],
 "metadata": {
  "kernelspec": {
   "display_name": "Python 3 (ipykernel)",
   "language": "python",
   "name": "python3"
  },
  "language_info": {
   "codemirror_mode": {
    "name": "ipython",
    "version": 3
   },
   "file_extension": ".py",
   "mimetype": "text/x-python",
   "name": "python",
   "nbconvert_exporter": "python",
   "pygments_lexer": "ipython3",
   "version": "3.9.12"
  }
 },
 "nbformat": 4,
 "nbformat_minor": 5
}
