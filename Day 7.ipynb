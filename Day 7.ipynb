{
 "cells": [
  {
   "cell_type": "code",
   "execution_count": 1,
   "id": "906356d4-111d-4105-a5c9-f7be3fde28fa",
   "metadata": {},
   "outputs": [
    {
     "data": {
      "text/plain": [
       "880"
      ]
     },
     "execution_count": 1,
     "metadata": {},
     "output_type": "execute_result"
    }
   ],
   "source": [
    "334+546"
   ]
  },
  {
   "cell_type": "code",
   "execution_count": 2,
   "id": "e1aa5c5e-ea6f-41e7-b5a6-7622a774733b",
   "metadata": {},
   "outputs": [
    {
     "data": {
      "text/plain": [
       "466"
      ]
     },
     "execution_count": 2,
     "metadata": {},
     "output_type": "execute_result"
    }
   ],
   "source": [
    "900-434"
   ]
  },
  {
   "cell_type": "code",
   "execution_count": 3,
   "id": "72c8b027-ac8e-4044-afd9-03398f75e23e",
   "metadata": {},
   "outputs": [
    {
     "data": {
      "text/plain": [
       "449.0"
      ]
     },
     "execution_count": 3,
     "metadata": {},
     "output_type": "execute_result"
    }
   ],
   "source": [
    "898/2"
   ]
  },
  {
   "cell_type": "code",
   "execution_count": 4,
   "id": "eab17674-e832-4521-bed1-9b860b959208",
   "metadata": {},
   "outputs": [
    {
     "data": {
      "text/plain": [
       "3915"
      ]
     },
     "execution_count": 4,
     "metadata": {},
     "output_type": "execute_result"
    }
   ],
   "source": [
    "87*45"
   ]
  },
  {
   "cell_type": "code",
   "execution_count": 5,
   "id": "921aa4c4-6a13-414e-8e5f-5f240c613329",
   "metadata": {},
   "outputs": [
    {
     "name": "stdout",
     "output_type": "stream",
     "text": [
      "Hello\n"
     ]
    }
   ],
   "source": [
    "print(\"Hello\")"
   ]
  },
  {
   "cell_type": "code",
   "execution_count": 6,
   "id": "69689b7b-4a46-40fc-9dac-6bcd184544f6",
   "metadata": {},
   "outputs": [
    {
     "name": "stdout",
     "output_type": "stream",
     "text": [
      "WELCOME to IT\n"
     ]
    }
   ],
   "source": [
    "print(\"WELCOME to IT\")"
   ]
  },
  {
   "cell_type": "code",
   "execution_count": 8,
   "id": "8ddf3903-6400-465c-85b3-2ec4160c5204",
   "metadata": {},
   "outputs": [
    {
     "name": "stdout",
     "output_type": "stream",
     "text": [
      "\n",
      "\n"
     ]
    }
   ],
   "source": [
    "print(\"\\n\")"
   ]
  },
  {
   "cell_type": "markdown",
   "id": "c84c4df9-1d7b-41b6-ab16-d6424a269708",
   "metadata": {},
   "source": [
    "# Heading 1"
   ]
  },
  {
   "cell_type": "markdown",
   "id": "ec5040d3-608d-45a1-b578-a270b1c498c9",
   "metadata": {},
   "source": [
    "* point 1\n",
    "* point 2"
   ]
  },
  {
   "cell_type": "markdown",
   "id": "def7ee48-204a-45db-998d-e2c4c69a245c",
   "metadata": {},
   "source": [
    "1. yess\n",
    "2. noo\n"
   ]
  },
  {
   "cell_type": "markdown",
   "id": "2f2ffe64-414c-41f5-88d6-a1afbd5a53e2",
   "metadata": {},
   "source": [
    "## heading2"
   ]
  },
  {
   "cell_type": "markdown",
   "id": "36a36ba5-d8bb-405b-b9a3-e82e0ba25ee7",
   "metadata": {},
   "source": [
    "#### foot"
   ]
  },
  {
   "cell_type": "markdown",
   "id": "49f15e25-db7c-4948-88a7-26d75be7ca8d",
   "metadata": {},
   "source": [
    "######## ghgh"
   ]
  },
  {
   "cell_type": "code",
   "execution_count": 10,
   "id": "877c160f-e9bc-4f0a-a65f-1f9629e3a707",
   "metadata": {},
   "outputs": [
    {
     "name": "stdout",
     "output_type": "stream",
     "text": [
      "hello\n",
      " world\n"
     ]
    }
   ],
   "source": [
    "print(\"hello\\n world\")"
   ]
  },
  {
   "cell_type": "code",
   "execution_count": 11,
   "id": "6e765ce9-395f-489b-a02b-348bdf8b1776",
   "metadata": {},
   "outputs": [],
   "source": [
    "import os"
   ]
  },
  {
   "cell_type": "code",
   "execution_count": 12,
   "id": "a2d4d595-d8e3-4c18-880d-f6811739f2c5",
   "metadata": {},
   "outputs": [
    {
     "data": {
      "text/plain": [
       "'C:\\\\Users\\\\SS\\\\Training'"
      ]
     },
     "execution_count": 12,
     "metadata": {},
     "output_type": "execute_result"
    }
   ],
   "source": [
    "os.getcwd()"
   ]
  },
  {
   "cell_type": "code",
   "execution_count": 16,
   "id": "16a4427c-6a46-4efb-b50b-6a97729f27c0",
   "metadata": {},
   "outputs": [],
   "source": [
    "os.chdir('C:\\\\Users\\\\SS\\\\Training')"
   ]
  },
  {
   "cell_type": "code",
   "execution_count": 17,
   "id": "af9b64e9-2b07-47cb-91b7-7668ee125009",
   "metadata": {},
   "outputs": [
    {
     "data": {
      "text/plain": [
       "['.ipynb_checkpoints', 'Day 7.ipynb']"
      ]
     },
     "execution_count": 17,
     "metadata": {},
     "output_type": "execute_result"
    }
   ],
   "source": [
    "os.listdir('C:\\\\Users\\\\SS\\\\Training')"
   ]
  },
  {
   "cell_type": "code",
   "execution_count": 18,
   "id": "1f03a2ef-0541-4880-b931-8ae2fcaff9d4",
   "metadata": {},
   "outputs": [],
   "source": [
    "os.mkdir(\"Empty_folder\")"
   ]
  },
  {
   "cell_type": "code",
   "execution_count": 19,
   "id": "1bd69afc-54b0-419a-9e58-29f2d1d32cc2",
   "metadata": {},
   "outputs": [],
   "source": [
    "os.rmdir(\"Empty_folder\")"
   ]
  },
  {
   "cell_type": "code",
   "execution_count": 20,
   "id": "a24182e9-80ee-4109-bea4-06bbcd532c3d",
   "metadata": {},
   "outputs": [],
   "source": [
    "os.mkdir(\"New_by_me\")"
   ]
  },
  {
   "cell_type": "code",
   "execution_count": 21,
   "id": "687cd790-f8c0-401b-8fbc-ce50df22ebdb",
   "metadata": {},
   "outputs": [],
   "source": [
    "os.rmdir(\"New_by_me\")"
   ]
  },
  {
   "cell_type": "code",
   "execution_count": 18,
   "id": "a7621093-229d-470c-95de-0a77ea408b33",
   "metadata": {},
   "outputs": [],
   "source": [
    "import random as r\n"
   ]
  },
  {
   "cell_type": "code",
   "execution_count": 2,
   "id": "7c1bbf43-15ad-44ff-9ba0-3916e9e3bc7a",
   "metadata": {},
   "outputs": [
    {
     "name": "stdout",
     "output_type": "stream",
     "text": [
      "0.5878311716742642\n"
     ]
    }
   ],
   "source": [
    "val=r.random()\n",
    "print(val)"
   ]
  },
  {
   "cell_type": "code",
   "execution_count": 3,
   "id": "33322d70-83c1-4bc2-bb9a-6b2c64b67dbd",
   "metadata": {},
   "outputs": [
    {
     "name": "stdout",
     "output_type": "stream",
     "text": [
      "8\n"
     ]
    }
   ],
   "source": [
    "val=r.randint(1,10)\n",
    "print(val)"
   ]
  },
  {
   "cell_type": "code",
   "execution_count": 4,
   "id": "615224ed-93d9-4093-a324-e2c27671835c",
   "metadata": {},
   "outputs": [
    {
     "name": "stdout",
     "output_type": "stream",
     "text": [
      "amit\n"
     ]
    }
   ],
   "source": [
    "m=['hi','amit','hello']\n",
    "print(r.choice(m))"
   ]
  },
  {
   "cell_type": "code",
   "execution_count": 5,
   "id": "649226e4-3bb6-4918-977d-6dcf915ebd3a",
   "metadata": {},
   "outputs": [
    {
     "name": "stdout",
     "output_type": "stream",
     "text": [
      "hi\n"
     ]
    }
   ],
   "source": [
    "print(r.choice(m))"
   ]
  },
  {
   "cell_type": "code",
   "execution_count": 6,
   "id": "b7840f74-e225-4049-a3dc-bbfce13e35f8",
   "metadata": {},
   "outputs": [
    {
     "name": "stdout",
     "output_type": "stream",
     "text": [
      "['hi', 'hello', 'hi']\n"
     ]
    }
   ],
   "source": [
    "print(r.choices(m,k=3))"
   ]
  },
  {
   "cell_type": "code",
   "execution_count": 7,
   "id": "04d18013-b8c8-40dd-89cc-841d876c5447",
   "metadata": {},
   "outputs": [
    {
     "name": "stdout",
     "output_type": "stream",
     "text": [
      "None\n"
     ]
    }
   ],
   "source": [
    "print(r.shuffle(m))"
   ]
  },
  {
   "cell_type": "code",
   "execution_count": 8,
   "id": "8475f3d6-0097-4854-84b6-0043c533aff1",
   "metadata": {},
   "outputs": [
    {
     "name": "stdout",
     "output_type": "stream",
     "text": [
      "None\n"
     ]
    }
   ],
   "source": [
    "print(r.shuffle(m))"
   ]
  },
  {
   "cell_type": "code",
   "execution_count": 9,
   "id": "d7d37e88-cbe6-44b8-bd9c-e8cd87b3cca7",
   "metadata": {},
   "outputs": [
    {
     "name": "stdout",
     "output_type": "stream",
     "text": [
      "None\n"
     ]
    }
   ],
   "source": [
    "val=r.shuffle(m)\n",
    "print(val)"
   ]
  },
  {
   "cell_type": "code",
   "execution_count": 11,
   "id": "ae4a8e80-20c1-4283-950a-de729d1371d8",
   "metadata": {},
   "outputs": [
    {
     "name": "stdout",
     "output_type": "stream",
     "text": [
      "None\n"
     ]
    }
   ],
   "source": [
    "print(r.shuffle(m))"
   ]
  },
  {
   "cell_type": "code",
   "execution_count": 12,
   "id": "14e2861a-5399-4c94-a0ce-1e5aef1ea9f4",
   "metadata": {},
   "outputs": [
    {
     "name": "stdout",
     "output_type": "stream",
     "text": [
      "None\n"
     ]
    }
   ],
   "source": [
    "l=[2,45,67]\n",
    "print(r.shuffle(l))"
   ]
  },
  {
   "cell_type": "code",
   "execution_count": 13,
   "id": "67843f22-0763-4f91-b8dc-06bd01237b42",
   "metadata": {},
   "outputs": [
    {
     "name": "stdout",
     "output_type": "stream",
     "text": [
      "[2, 67, 45]\n"
     ]
    }
   ],
   "source": [
    "print(l)"
   ]
  },
  {
   "cell_type": "code",
   "execution_count": 14,
   "id": "8424c24e-597a-4e06-9920-28039df33c4d",
   "metadata": {},
   "outputs": [
    {
     "name": "stdout",
     "output_type": "stream",
     "text": [
      "[67, 45, 67]\n"
     ]
    }
   ],
   "source": [
    "print(r.choices(l,k=3))"
   ]
  },
  {
   "cell_type": "code",
   "execution_count": 16,
   "id": "453284b3-5486-4170-83fc-7714d4c11566",
   "metadata": {},
   "outputs": [
    {
     "name": "stdout",
     "output_type": "stream",
     "text": [
      "[45, 2, 67]\n"
     ]
    }
   ],
   "source": [
    "print(l)"
   ]
  },
  {
   "cell_type": "code",
   "execution_count": 20,
   "id": "879d8000-73b1-4f0d-9d1f-a6d4634b8309",
   "metadata": {},
   "outputs": [],
   "source": [
    "r.shuffle(l)"
   ]
  },
  {
   "cell_type": "code",
   "execution_count": 21,
   "id": "4d0964be-25ef-410a-9888-74a0e0fcb20b",
   "metadata": {},
   "outputs": [
    {
     "data": {
      "text/plain": [
       "[2, 67, 45]"
      ]
     },
     "execution_count": 21,
     "metadata": {},
     "output_type": "execute_result"
    }
   ],
   "source": [
    "l"
   ]
  },
  {
   "cell_type": "code",
   "execution_count": 1,
   "id": "06641478-7340-4e0b-99a7-e4ea34c3b3fd",
   "metadata": {},
   "outputs": [],
   "source": [
    "import numpy as np"
   ]
  },
  {
   "cell_type": "code",
   "execution_count": 2,
   "id": "2652bc15-ddfe-449c-bcf0-168070a0f07f",
   "metadata": {},
   "outputs": [
    {
     "data": {
      "text/plain": [
       "array([[ 1,  2, 34, 57],\n",
       "       [78,  4,  9, 76],\n",
       "       [21, 45, 98,  7]])"
      ]
     },
     "execution_count": 2,
     "metadata": {},
     "output_type": "execute_result"
    }
   ],
   "source": [
    "a=np.array([[1,2,34,57],[78,4,9,76],[21,45,98,7]])\n",
    "a"
   ]
  },
  {
   "cell_type": "code",
   "execution_count": 3,
   "id": "932459d6-62ab-4028-ab16-40f3fa844dc4",
   "metadata": {},
   "outputs": [
    {
     "data": {
      "text/plain": [
       "12"
      ]
     },
     "execution_count": 3,
     "metadata": {},
     "output_type": "execute_result"
    }
   ],
   "source": [
    "a.size"
   ]
  },
  {
   "cell_type": "code",
   "execution_count": 5,
   "id": "dd9d1d44-d1b3-4140-b83d-e80e92f91df2",
   "metadata": {},
   "outputs": [
    {
     "data": {
      "text/plain": [
       "(3, 4)"
      ]
     },
     "execution_count": 5,
     "metadata": {},
     "output_type": "execute_result"
    }
   ],
   "source": [
    "a.shape"
   ]
  },
  {
   "cell_type": "code",
   "execution_count": 8,
   "id": "02df6ac2-4cc5-4756-96ee-7ad5f6483c2f",
   "metadata": {},
   "outputs": [
    {
     "data": {
      "text/plain": [
       "57"
      ]
     },
     "execution_count": 8,
     "metadata": {},
     "output_type": "execute_result"
    }
   ],
   "source": [
    "a[0][3]"
   ]
  },
  {
   "cell_type": "code",
   "execution_count": 10,
   "id": "64d399d3-1e1a-4df8-b20d-829289a68a26",
   "metadata": {},
   "outputs": [
    {
     "data": {
      "text/plain": [
       "array([21, 45])"
      ]
     },
     "execution_count": 10,
     "metadata": {},
     "output_type": "execute_result"
    }
   ],
   "source": [
    "a[2][:2]"
   ]
  },
  {
   "cell_type": "markdown",
   "id": "f0129083-32a4-46d4-90f4-2643b733a133",
   "metadata": {},
   "source": []
  },
  {
   "cell_type": "code",
   "execution_count": 12,
   "id": "64e744c1-53cf-4ea9-ba5b-72d4d7ab407b",
   "metadata": {},
   "outputs": [
    {
     "data": {
      "text/plain": [
       "array([21, 45])"
      ]
     },
     "execution_count": 12,
     "metadata": {},
     "output_type": "execute_result"
    }
   ],
   "source": [
    "a[2,[0,1]]"
   ]
  },
  {
   "cell_type": "code",
   "execution_count": 13,
   "id": "64100602-8345-455e-8042-118c74f7223f",
   "metadata": {},
   "outputs": [
    {
     "data": {
      "text/plain": [
       "array([21, 45])"
      ]
     },
     "execution_count": 13,
     "metadata": {},
     "output_type": "execute_result"
    }
   ],
   "source": [
    "a[2,:2]"
   ]
  },
  {
   "cell_type": "code",
   "execution_count": 14,
   "id": "b313d0f6-46c0-4322-812d-91b9686453dc",
   "metadata": {},
   "outputs": [
    {
     "data": {
      "text/plain": [
       "array([98,  7])"
      ]
     },
     "execution_count": 14,
     "metadata": {},
     "output_type": "execute_result"
    }
   ],
   "source": [
    "a[2,2:]"
   ]
  },
  {
   "cell_type": "code",
   "execution_count": 15,
   "id": "c6adf2ce-cb49-4dac-9803-21b6cdc41d9d",
   "metadata": {},
   "outputs": [
    {
     "data": {
      "text/plain": [
       "array([[ 1,  2, 34, 57],\n",
       "       [78,  4,  9, 76],\n",
       "       [21, 45, 98,  7]])"
      ]
     },
     "execution_count": 15,
     "metadata": {},
     "output_type": "execute_result"
    }
   ],
   "source": [
    "a[:,:]"
   ]
  },
  {
   "cell_type": "code",
   "execution_count": 18,
   "id": "7cfe59ba-3e4b-4aed-ba1b-9f5c1df824ff",
   "metadata": {},
   "outputs": [
    {
     "name": "stdout",
     "output_type": "stream",
     "text": [
      "[[ 1  2 34 57]\n",
      " [78  4  9 76]\n",
      " [21 45 98  7]]\n"
     ]
    }
   ],
   "source": [
    "print(a)"
   ]
  },
  {
   "cell_type": "code",
   "execution_count": 19,
   "id": "e6290d6d-6bef-4045-a2d9-7615ea1f5b4a",
   "metadata": {},
   "outputs": [
    {
     "data": {
      "text/plain": [
       "array([[ 9, 76],\n",
       "       [98,  7]])"
      ]
     },
     "execution_count": 19,
     "metadata": {},
     "output_type": "execute_result"
    }
   ],
   "source": [
    "a[1:,2:]"
   ]
  },
  {
   "cell_type": "code",
   "execution_count": 20,
   "id": "492692de-53f1-4518-a5e0-040b6d51a9aa",
   "metadata": {},
   "outputs": [
    {
     "data": {
      "text/plain": [
       "array([[57],\n",
       "       [76],\n",
       "       [ 7]])"
      ]
     },
     "execution_count": 20,
     "metadata": {},
     "output_type": "execute_result"
    }
   ],
   "source": [
    "a[:,3:]"
   ]
  },
  {
   "cell_type": "code",
   "execution_count": 24,
   "id": "b3833810-af7d-421f-b125-b07956d986ed",
   "metadata": {},
   "outputs": [
    {
     "data": {
      "text/plain": [
       "array([78,  4])"
      ]
     },
     "execution_count": 24,
     "metadata": {},
     "output_type": "execute_result"
    }
   ],
   "source": [
    "a[1,[0,1]] "
   ]
  },
  {
   "cell_type": "markdown",
   "id": "87a2e53b-ffef-40bf-8b95-5cb2ceac63d8",
   "metadata": {},
   "source": [
    "# arrange"
   ]
  },
  {
   "cell_type": "code",
   "execution_count": 27,
   "id": "cbdfcfd6-283b-42e3-ac8e-59d90e2061e3",
   "metadata": {
    "tags": []
   },
   "outputs": [
    {
     "data": {
      "text/plain": [
       "[0, 1, 2, 3]"
      ]
     },
     "execution_count": 27,
     "metadata": {},
     "output_type": "execute_result"
    }
   ],
   "source": [
    "list(range(4))"
   ]
  },
  {
   "cell_type": "code",
   "execution_count": 28,
   "id": "f64b4b7c-0ffc-4c91-8f05-0b0ed4017c41",
   "metadata": {},
   "outputs": [
    {
     "data": {
      "text/plain": [
       "array([0, 1, 2, 3, 4, 5, 6])"
      ]
     },
     "execution_count": 28,
     "metadata": {},
     "output_type": "execute_result"
    }
   ],
   "source": [
    "np.arange(7)"
   ]
  },
  {
   "cell_type": "code",
   "execution_count": 31,
   "id": "bb1cfc56-d9ef-45e4-9f78-b914f605c7e4",
   "metadata": {},
   "outputs": [
    {
     "data": {
      "text/plain": [
       "array([4.5, 4.6, 4.7, 4.8, 4.9, 5. , 5.1, 5.2, 5.3, 5.4, 5.5, 5.6, 5.7,\n",
       "       5.8, 5.9, 6. , 6.1, 6.2, 6.3, 6.4, 6.5, 6.6, 6.7, 6.8, 6.9, 7. ])"
      ]
     },
     "execution_count": 31,
     "metadata": {},
     "output_type": "execute_result"
    }
   ],
   "source": [
    "np.arange(4.5,7.1,0.1)"
   ]
  },
  {
   "cell_type": "code",
   "execution_count": 32,
   "id": "c96cf8f2-efa2-4a57-af82-ba392c6841b5",
   "metadata": {},
   "outputs": [
    {
     "data": {
      "text/plain": [
       "array([[0, 1, 2, 3],\n",
       "       [4, 5, 6, 7]])"
      ]
     },
     "execution_count": 32,
     "metadata": {},
     "output_type": "execute_result"
    }
   ],
   "source": [
    "np.arange(8).reshape(2,4)"
   ]
  },
  {
   "cell_type": "code",
   "execution_count": 33,
   "id": "4bcfe958-69ef-4468-ae99-7ef42104013d",
   "metadata": {},
   "outputs": [
    {
     "data": {
      "text/plain": [
       "array([0., 1., 2., 3., 4.])"
      ]
     },
     "execution_count": 33,
     "metadata": {},
     "output_type": "execute_result"
    }
   ],
   "source": [
    "np.arange(np.sqrt(25))"
   ]
  },
  {
   "cell_type": "code",
   "execution_count": 34,
   "id": "f28daaa3-b052-4b89-9b69-0fb91f28de5a",
   "metadata": {},
   "outputs": [
    {
     "data": {
      "text/plain": [
       "9"
      ]
     },
     "execution_count": 34,
     "metadata": {},
     "output_type": "execute_result"
    }
   ],
   "source": [
    "np.max(np.arange(10))"
   ]
  },
  {
   "cell_type": "code",
   "execution_count": 35,
   "id": "ce7749df-0057-40ca-a3f4-58e00870e52a",
   "metadata": {},
   "outputs": [
    {
     "data": {
      "text/plain": [
       "98"
      ]
     },
     "execution_count": 35,
     "metadata": {},
     "output_type": "execute_result"
    }
   ],
   "source": [
    "a.max()"
   ]
  },
  {
   "cell_type": "code",
   "execution_count": 36,
   "id": "afe0a5d9-68df-4d4c-8438-875c12c25098",
   "metadata": {},
   "outputs": [
    {
     "data": {
      "text/plain": [
       "array([[ 1,  2, 34, 57],\n",
       "       [78,  4,  9, 76],\n",
       "       [21, 45, 98,  7]])"
      ]
     },
     "execution_count": 36,
     "metadata": {},
     "output_type": "execute_result"
    }
   ],
   "source": [
    "a"
   ]
  },
  {
   "cell_type": "code",
   "execution_count": 38,
   "id": "7baefa10-edea-4810-b475-86b032f5dc23",
   "metadata": {},
   "outputs": [
    {
     "data": {
      "text/plain": [
       "1"
      ]
     },
     "execution_count": 38,
     "metadata": {},
     "output_type": "execute_result"
    }
   ],
   "source": [
    "a.min()"
   ]
  },
  {
   "cell_type": "code",
   "execution_count": 39,
   "id": "f02993a1-633a-4722-bdd9-204b209d934a",
   "metadata": {},
   "outputs": [
    {
     "data": {
      "text/plain": [
       "36.0"
      ]
     },
     "execution_count": 39,
     "metadata": {},
     "output_type": "execute_result"
    }
   ],
   "source": [
    "a.mean()"
   ]
  },
  {
   "cell_type": "code",
   "execution_count": 42,
   "id": "2795b027-9c90-473f-bcf1-ce3c40397168",
   "metadata": {},
   "outputs": [
    {
     "data": {
      "text/plain": [
       "10"
      ]
     },
     "execution_count": 42,
     "metadata": {},
     "output_type": "execute_result"
    }
   ],
   "source": [
    "a.argmax()"
   ]
  },
  {
   "cell_type": "code",
   "execution_count": 43,
   "id": "f633a0df-cfad-4cc6-b72b-5243c46c87c3",
   "metadata": {},
   "outputs": [
    {
     "data": {
      "text/plain": [
       "0"
      ]
     },
     "execution_count": 43,
     "metadata": {},
     "output_type": "execute_result"
    }
   ],
   "source": [
    "a.argmin()"
   ]
  },
  {
   "cell_type": "code",
   "execution_count": 44,
   "id": "5bf4f6d4-19d7-439b-8c38-a9e12918ff8e",
   "metadata": {},
   "outputs": [],
   "source": [
    "a.sort()"
   ]
  },
  {
   "cell_type": "code",
   "execution_count": 45,
   "id": "e7a4ee11-07b9-4597-a3d0-b25f980b6a50",
   "metadata": {},
   "outputs": [
    {
     "data": {
      "text/plain": [
       "array([[ 1,  2, 34, 57],\n",
       "       [ 4,  9, 76, 78],\n",
       "       [ 7, 21, 45, 98]])"
      ]
     },
     "execution_count": 45,
     "metadata": {},
     "output_type": "execute_result"
    }
   ],
   "source": [
    "a"
   ]
  },
  {
   "cell_type": "code",
   "execution_count": 46,
   "id": "c64200ff-8236-4fee-9180-6d097de4b15a",
   "metadata": {},
   "outputs": [
    {
     "data": {
      "text/plain": [
       "array([[  4,   5,  37,  60],\n",
       "       [  7,  12,  79,  81],\n",
       "       [ 10,  24,  48, 101]])"
      ]
     },
     "execution_count": 46,
     "metadata": {},
     "output_type": "execute_result"
    }
   ],
   "source": [
    "a+3"
   ]
  },
  {
   "cell_type": "code",
   "execution_count": 47,
   "id": "488ee186-5de9-4d83-b984-6eb5e501c994",
   "metadata": {},
   "outputs": [],
   "source": [
    "import random as r"
   ]
  },
  {
   "cell_type": "code",
   "execution_count": 48,
   "id": "e17f40cf-ec14-4d5c-96fc-479bca474364",
   "metadata": {},
   "outputs": [
    {
     "data": {
      "text/plain": [
       "array([[0.179392  , 0.51604451, 0.83400138],\n",
       "       [0.70506342, 0.75127836, 0.8289787 ],\n",
       "       [0.85701544, 0.25902927, 0.17455984]])"
      ]
     },
     "execution_count": 48,
     "metadata": {},
     "output_type": "execute_result"
    }
   ],
   "source": [
    "np.random.rand(3,3)"
   ]
  },
  {
   "cell_type": "code",
   "execution_count": 58,
   "id": "11f6455d-3b0b-49f7-9eb7-3f55b5b5515e",
   "metadata": {},
   "outputs": [],
   "source": [
    "l=np.random.randint(9,90,12).reshape(6,2)"
   ]
  },
  {
   "cell_type": "code",
   "execution_count": 57,
   "id": "ef94ecef-c2a0-478b-9330-02006a9b5601",
   "metadata": {},
   "outputs": [
    {
     "data": {
      "text/plain": [
       "array([[-1.10242019,  0.14824169,  0.99854065,  1.3227321 , -0.50759418,\n",
       "        -0.97204376],\n",
       "       [ 0.69491844,  1.36935595,  0.82885805,  0.9172962 ,  1.43765715,\n",
       "        -1.0271766 ]])"
      ]
     },
     "execution_count": 57,
     "metadata": {},
     "output_type": "execute_result"
    }
   ],
   "source": [
    "np.random.randn(3,4).reshape(2,6)"
   ]
  },
  {
   "cell_type": "code",
   "execution_count": 59,
   "id": "df88d487-f8da-4ae2-9d49-b0ccd7b96c6d",
   "metadata": {},
   "outputs": [
    {
     "data": {
      "text/plain": [
       "array([460, 178])"
      ]
     },
     "execution_count": 59,
     "metadata": {},
     "output_type": "execute_result"
    }
   ],
   "source": [
    "l.sum(axis=0)"
   ]
  },
  {
   "cell_type": "code",
   "execution_count": 60,
   "id": "686bf81c-b8a7-4995-bd22-bbc9c3569c5e",
   "metadata": {},
   "outputs": [
    {
     "data": {
      "text/plain": [
       "638"
      ]
     },
     "execution_count": 60,
     "metadata": {},
     "output_type": "execute_result"
    }
   ],
   "source": [
    "l.sum()"
   ]
  },
  {
   "cell_type": "code",
   "execution_count": 61,
   "id": "6be9e4b4-f03c-400a-b1fc-fb6f84f83202",
   "metadata": {},
   "outputs": [
    {
     "data": {
      "text/plain": [
       "array([143,  98,  66, 109, 110, 112])"
      ]
     },
     "execution_count": 61,
     "metadata": {},
     "output_type": "execute_result"
    }
   ],
   "source": [
    "l.sum(axis=1)"
   ]
  },
  {
   "cell_type": "code",
   "execution_count": 62,
   "id": "acccc965-8be0-48aa-b524-16d5a8ac18bc",
   "metadata": {},
   "outputs": [
    {
     "data": {
      "text/plain": [
       "array([[86, 57],\n",
       "       [82, 16],\n",
       "       [56, 10],\n",
       "       [74, 35],\n",
       "       [74, 36],\n",
       "       [88, 24]])"
      ]
     },
     "execution_count": 62,
     "metadata": {},
     "output_type": "execute_result"
    }
   ],
   "source": [
    "l"
   ]
  },
  {
   "cell_type": "code",
   "execution_count": 63,
   "id": "4a3b41e2-2a0c-454b-a83e-a86c6923db09",
   "metadata": {},
   "outputs": [],
   "source": [
    "t=np.array([[[1,2],[2,3]],[[3,4],[4,5]]])"
   ]
  },
  {
   "cell_type": "code",
   "execution_count": 64,
   "id": "45843928-fa9e-4fe6-b7ee-7905571f071d",
   "metadata": {},
   "outputs": [
    {
     "data": {
      "text/plain": [
       "array([[[1, 2],\n",
       "        [2, 3]],\n",
       "\n",
       "       [[3, 4],\n",
       "        [4, 5]]])"
      ]
     },
     "execution_count": 64,
     "metadata": {},
     "output_type": "execute_result"
    }
   ],
   "source": [
    "t"
   ]
  },
  {
   "cell_type": "code",
   "execution_count": 66,
   "id": "6cb5270b-8a38-424f-9838-618a8efc4f75",
   "metadata": {},
   "outputs": [
    {
     "data": {
      "text/plain": [
       "(2, 2, 2)"
      ]
     },
     "execution_count": 66,
     "metadata": {},
     "output_type": "execute_result"
    }
   ],
   "source": [
    "t.shape"
   ]
  },
  {
   "cell_type": "code",
   "execution_count": 67,
   "id": "8e025440-d5a5-4551-8890-dc5340118ee4",
   "metadata": {},
   "outputs": [
    {
     "data": {
      "text/plain": [
       "8"
      ]
     },
     "execution_count": 67,
     "metadata": {},
     "output_type": "execute_result"
    }
   ],
   "source": [
    "t.size"
   ]
  },
  {
   "cell_type": "code",
   "execution_count": 80,
   "id": "47602f6d-aaff-48d2-931e-ff7f0252b44e",
   "metadata": {},
   "outputs": [],
   "source": [
    "f=np.array([[[2,4,1],[1,3,2]],[[3,4,2],[1,2,2]],[[3,4,4],[1,2,4]],[[2,4,3],[1,3,2]]])"
   ]
  },
  {
   "cell_type": "code",
   "execution_count": 81,
   "id": "2c9baf8a-85fb-49e8-a20e-1ce8be7878fc",
   "metadata": {},
   "outputs": [
    {
     "data": {
      "text/plain": [
       "array([[[2, 4, 1],\n",
       "        [1, 3, 2]],\n",
       "\n",
       "       [[3, 4, 2],\n",
       "        [1, 2, 2]],\n",
       "\n",
       "       [[3, 4, 4],\n",
       "        [1, 2, 4]],\n",
       "\n",
       "       [[2, 4, 3],\n",
       "        [1, 3, 2]]])"
      ]
     },
     "execution_count": 81,
     "metadata": {},
     "output_type": "execute_result"
    }
   ],
   "source": [
    "f"
   ]
  },
  {
   "cell_type": "code",
   "execution_count": 75,
   "id": "4544bf6a-7ff9-4d8f-a11e-175a6d232700",
   "metadata": {},
   "outputs": [
    {
     "data": {
      "text/plain": [
       "nan"
      ]
     },
     "execution_count": 75,
     "metadata": {},
     "output_type": "execute_result"
    }
   ],
   "source": [
    "np.nan+45"
   ]
  },
  {
   "cell_type": "code",
   "execution_count": 82,
   "id": "d2fb8589-58c3-434d-85f8-93f8d5a71564",
   "metadata": {},
   "outputs": [
    {
     "data": {
      "text/plain": [
       "(4, 2, 3)"
      ]
     },
     "execution_count": 82,
     "metadata": {},
     "output_type": "execute_result"
    }
   ],
   "source": [
    "f.shape"
   ]
  },
  {
   "cell_type": "code",
   "execution_count": null,
   "id": "e57b856d-2cb4-4137-b6eb-9be1d9cdc28c",
   "metadata": {},
   "outputs": [],
   "source": []
  }
 ],
 "metadata": {
  "kernelspec": {
   "display_name": "Python 3 (ipykernel)",
   "language": "python",
   "name": "python3"
  },
  "language_info": {
   "codemirror_mode": {
    "name": "ipython",
    "version": 3
   },
   "file_extension": ".py",
   "mimetype": "text/x-python",
   "name": "python",
   "nbconvert_exporter": "python",
   "pygments_lexer": "ipython3",
   "version": "3.9.12"
  }
 },
 "nbformat": 4,
 "nbformat_minor": 5
}
