{
 "cells": [
  {
   "cell_type": "code",
   "execution_count": 1,
   "id": "fb7193af-ac64-4dae-a77c-9a9df9bbbaeb",
   "metadata": {},
   "outputs": [],
   "source": [
    "import pandas as pd\n",
    "import numpy as np"
   ]
  },
  {
   "cell_type": "code",
   "execution_count": 2,
   "id": "3202db8b-0b55-47d3-8445-5fa1e5dcc3cd",
   "metadata": {
    "tags": []
   },
   "outputs": [
    {
     "ename": "SyntaxError",
     "evalue": "invalid syntax (3854960074.py, line 1)",
     "output_type": "error",
     "traceback": [
      "\u001b[1;36m  Input \u001b[1;32mIn [2]\u001b[1;36m\u001b[0m\n\u001b[1;33m    Data Analysis\u001b[0m\n\u001b[1;37m         ^\u001b[0m\n\u001b[1;31mSyntaxError\u001b[0m\u001b[1;31m:\u001b[0m invalid syntax\n"
     ]
    }
   ],
   "source": [
    "Data Analysis\n",
    "1. Description\n",
    "2. Diagnosis\n",
    "3. Prediction\n",
    "4. Prescription/Actions"
   ]
  },
  {
   "cell_type": "code",
   "execution_count": null,
   "id": "b5a4fb1f-4456-4b95-940b-e1e867a8ef83",
   "metadata": {},
   "outputs": [],
   "source": [
    "cols=[\"user_id\",\"movie_id\",\"rating\",\"ts\"]"
   ]
  },
  {
   "cell_type": "code",
   "execution_count": null,
   "id": "c7392f22-9be2-4a7f-a919-70f47809bb07",
   "metadata": {
    "tags": []
   },
   "outputs": [],
   "source": [
    "#Read the file\n",
    "df=pd.read_csv(\"u.data\",sep=\"\\t\",names=cols)#[[\"user_id\",\"movie_id\",\"rating\"]]"
   ]
  },
  {
   "cell_type": "code",
   "execution_count": null,
   "id": "8b95cd10-d4eb-4a8b-923c-b1cfac01096a",
   "metadata": {},
   "outputs": [],
   "source": [
    "item_cols=[\"movie_id\",\"title\"]+[str(i) for i in range(22)]"
   ]
  },
  {
   "cell_type": "code",
   "execution_count": null,
   "id": "1c8df3a5-4c5a-4684-b909-504e7fbfa17e",
   "metadata": {},
   "outputs": [],
   "source": [
    "#Read the other file\n",
    "df1=pd.read_csv(\"u.item\",encoding=\"ISO-8859-1\",sep=\"|\",names=item_cols)[[\"movie_id\",\"title\"]]"
   ]
  },
  {
   "cell_type": "markdown",
   "id": "ab14d800-5716-445c-8af9-e761df7ebb98",
   "metadata": {},
   "source": [
    "Exploratory Data Analysis"
   ]
  },
  {
   "cell_type": "code",
   "execution_count": null,
   "id": "c506c699-55ce-494e-be44-3036ef7a6f39",
   "metadata": {
    "tags": []
   },
   "outputs": [],
   "source": [
    "df.head(2)"
   ]
  },
  {
   "cell_type": "code",
   "execution_count": null,
   "id": "234ca691-26b9-4eaf-b5c2-703a91a13ea6",
   "metadata": {
    "tags": []
   },
   "outputs": [],
   "source": [
    "df.info()"
   ]
  },
  {
   "cell_type": "code",
   "execution_count": null,
   "id": "8479da25-db93-4e0f-b3d9-2bf12e1a82d9",
   "metadata": {
    "tags": []
   },
   "outputs": [],
   "source": [
    "df.describe(include='all')"
   ]
  },
  {
   "cell_type": "code",
   "execution_count": null,
   "id": "0617f3e0-a047-4be2-bbaf-415e3f3f5b66",
   "metadata": {
    "tags": []
   },
   "outputs": [],
   "source": [
    "Try to find the different data\n",
    "string data- either categorical info \n",
    "strings with random stuff\n",
    "numbers with quantified info\n",
    "numbers with categorical info\n",
    "random numbers or id sort of data"
   ]
  },
  {
   "cell_type": "code",
   "execution_count": null,
   "id": "d7f23dfb-2269-4e72-8c00-33d397f13999",
   "metadata": {
    "tags": []
   },
   "outputs": [],
   "source": [
    "df.columns"
   ]
  },
  {
   "cell_type": "code",
   "execution_count": null,
   "id": "aa9a177d-489d-4d15-b12e-d1762496c076",
   "metadata": {
    "tags": []
   },
   "outputs": [],
   "source": [
    "df[\"rating\"].unique()"
   ]
  },
  {
   "cell_type": "code",
   "execution_count": null,
   "id": "15491451-da9c-4a50-8a58-05d91e92e984",
   "metadata": {
    "tags": []
   },
   "outputs": [],
   "source": [
    "df[\"rating\"].nunique()"
   ]
  },
  {
   "cell_type": "code",
   "execution_count": null,
   "id": "777d8401-703b-4ad2-9d7a-0b0d93819f17",
   "metadata": {
    "tags": []
   },
   "outputs": [],
   "source": [
    "df[\"user_id\"].nunique()"
   ]
  },
  {
   "cell_type": "code",
   "execution_count": null,
   "id": "1590dd90-e165-4d8d-8286-ac3b1caefe23",
   "metadata": {
    "tags": []
   },
   "outputs": [],
   "source": [
    "df[\"movie_id\"].nunique()"
   ]
  },
  {
   "cell_type": "code",
   "execution_count": null,
   "id": "20b2a09c-5022-47b5-9348-19b8a46d9f2b",
   "metadata": {
    "tags": []
   },
   "outputs": [],
   "source": [
    "df1.head(2)"
   ]
  },
  {
   "cell_type": "code",
   "execution_count": null,
   "id": "50dfc39e-5b78-43de-8023-fb600624e22f",
   "metadata": {},
   "outputs": [],
   "source": [
    "df1.shape"
   ]
  },
  {
   "cell_type": "code",
   "execution_count": null,
   "id": "d4902b12-eedb-4efd-bd72-c4533cfcabae",
   "metadata": {},
   "outputs": [],
   "source": [
    "movie=pd.merge(df,df1,on=\"movie_id\")"
   ]
  },
  {
   "cell_type": "code",
   "execution_count": null,
   "id": "d5faf6e0-9da6-46b7-8d18-7da97df0e432",
   "metadata": {
    "tags": []
   },
   "outputs": [],
   "source": [
    "movie.head(7)"
   ]
  },
  {
   "cell_type": "code",
   "execution_count": null,
   "id": "7843311d-785d-45d1-b32f-2cae09684517",
   "metadata": {},
   "outputs": [],
   "source": [
    "#Remove the redundant or useless column ts\n",
    "movie.drop('ts',axis=1,inplace=True)"
   ]
  },
  {
   "cell_type": "code",
   "execution_count": null,
   "id": "545a1820-7460-4af1-9a03-b81474eeb0ed",
   "metadata": {
    "tags": []
   },
   "outputs": [],
   "source": [
    "movie.head()"
   ]
  },
  {
   "cell_type": "code",
   "execution_count": null,
   "id": "7a592a0d-6e91-421e-bb9f-d4e7c5dc3a1c",
   "metadata": {},
   "outputs": [],
   "source": [
    "#Find the number of ratings for each movie.\n",
    "one=movie['title'].value_counts()"
   ]
  },
  {
   "cell_type": "code",
   "execution_count": null,
   "id": "60f31e74-5170-41eb-90cb-e13b4c99d4d5",
   "metadata": {},
   "outputs": [],
   "source": [
    "#Find avg rating\n",
    "two=movie.groupby(\"title\")[\"rating\"].mean().sort_values(ascending=False)"
   ]
  },
  {
   "cell_type": "code",
   "execution_count": null,
   "id": "b46017a1-026b-49ea-a6c3-adea5cd5ec7e",
   "metadata": {},
   "outputs": [],
   "source": [
    "#df11=pd.DataFrame(data=one,columns=[\"title\",'count'])"
   ]
  },
  {
   "cell_type": "code",
   "execution_count": null,
   "id": "0160673b-ee6e-4495-b6ed-2b0595e0750c",
   "metadata": {
    "tags": []
   },
   "outputs": [],
   "source": [
    "df22=pd.DataFrame(data=two)"
   ]
  },
  {
   "cell_type": "code",
   "execution_count": null,
   "id": "8349a1a4-0cfb-4a24-b90b-96fc138a4111",
   "metadata": {},
   "outputs": [],
   "source": [
    "df22[\"count\"]=movie[\"title\"].value_counts()"
   ]
  },
  {
   "cell_type": "code",
   "execution_count": null,
   "id": "ac4a5db2-5d70-4d96-ad07-f82ecc5f6a83",
   "metadata": {
    "tags": []
   },
   "outputs": [],
   "source": [
    "df22.head()"
   ]
  },
  {
   "cell_type": "code",
   "execution_count": null,
   "id": "813ebbc4-6005-49e4-9294-41b8e139e74e",
   "metadata": {},
   "outputs": [],
   "source": [
    "df22.sort_values(by=\"count\",ascending=False).head()"
   ]
  },
  {
   "cell_type": "code",
   "execution_count": null,
   "id": "fc5d8f01-a651-4d3a-9cc2-e08065b22117",
   "metadata": {},
   "outputs": [],
   "source": [
    "m=movie.pivot_table(index=\"user_id\",columns=\"title\",values=\"rating\")"
   ]
  },
  {
   "cell_type": "code",
   "execution_count": null,
   "id": "00d782b0-c231-4194-8020-2bd97adbd6f7",
   "metadata": {},
   "outputs": [],
   "source": [
    "m.head()"
   ]
  },
  {
   "cell_type": "code",
   "execution_count": null,
   "id": "ae39428e-99e7-408b-8fbf-71a8be11796d",
   "metadata": {},
   "outputs": [],
   "source": [
    "movie_selected=\"Star Wars (1977)\""
   ]
  },
  {
   "cell_type": "code",
   "execution_count": null,
   "id": "d47b1438-7996-4652-8a24-07f5402bd2f6",
   "metadata": {},
   "outputs": [],
   "source": [
    "ms_rates=m[movie_selected]"
   ]
  },
  {
   "cell_type": "code",
   "execution_count": null,
   "id": "14d315d8-5c9f-4ee9-b884-593c487d6e82",
   "metadata": {},
   "outputs": [],
   "source": [
    "ms_rates.head()"
   ]
  },
  {
   "cell_type": "code",
   "execution_count": null,
   "id": "f0e6dd19-cdfd-4c5a-b853-e94001676f2f",
   "metadata": {},
   "outputs": [],
   "source": [
    "import warnings\n",
    "warnings.filterwarnings('ignore')"
   ]
  },
  {
   "cell_type": "code",
   "execution_count": null,
   "id": "2514067b-5e14-4694-a813-2524962850ac",
   "metadata": {},
   "outputs": [],
   "source": [
    "corrs=m.corrwith(ms_rates).sort_values(ascending=False)\n",
    "corrs.head(8)"
   ]
  },
  {
   "cell_type": "code",
   "execution_count": null,
   "id": "14c0d950-ee68-4f1c-9fd3-ed1af274eb44",
   "metadata": {},
   "outputs": [],
   "source": [
    "dfa=pd.DataFrame(corrs,columns=[\"correlation\"])"
   ]
  },
  {
   "cell_type": "code",
   "execution_count": null,
   "id": "511df15c-0305-44b5-b041-b6e718eac8ed",
   "metadata": {},
   "outputs": [],
   "source": [
    "dfa[\"count\"]=df22[\"count\"]\n",
    "dfa[\"rating\"]=df22[\"rating\"]"
   ]
  },
  {
   "cell_type": "code",
   "execution_count": null,
   "id": "3eb58b56-4b6a-449c-a0a4-21a219043ef7",
   "metadata": {},
   "outputs": [],
   "source": [
    "dfa.head()"
   ]
  },
  {
   "cell_type": "code",
   "execution_count": null,
   "id": "b6febd8a-e508-47f2-8d1e-eb43c95e7313",
   "metadata": {},
   "outputs": [],
   "source": [
    "dfa.drop([\"Count\",\"ratings\"],axis=1,inplace=True)"
   ]
  },
  {
   "cell_type": "code",
   "execution_count": null,
   "id": "6ada9f70-2eaa-46b2-9877-dd9afa82f665",
   "metadata": {},
   "outputs": [],
   "source": [
    "dfa[dfa[\"count\"]>50].sort_values(by=\"correlation\",ascending=False).head()"
   ]
  },
  {
   "cell_type": "code",
   "execution_count": null,
   "id": "18567a6e-fbd0-4dee-bed5-e3d0e3f01ce1",
   "metadata": {},
   "outputs": [],
   "source": [
    "l=list(dfa[dfa[\"count\"]>50].sort_values(by=\"correlation\",ascending=False).head().index)"
   ]
  },
  {
   "cell_type": "code",
   "execution_count": null,
   "id": "ff48b157-212e-441c-8b6f-674ecbc96f41",
   "metadata": {},
   "outputs": [],
   "source": [
    "l.remove(movie_selected)"
   ]
  },
  {
   "cell_type": "code",
   "execution_count": null,
   "id": "68415d26-2aca-4fc2-bca4-4da75a07ce33",
   "metadata": {},
   "outputs": [],
   "source": [
    "l"
   ]
  },
  {
   "cell_type": "code",
   "execution_count": 9,
   "id": "37bbc879-d2fe-44bf-94b2-05728200019d",
   "metadata": {},
   "outputs": [],
   "source": [
    "import pandas as pd\n",
    "import numpy as np\n",
    "import warnings\n",
    "warnings.filterwarnings('ignore')\n",
    "\n",
    "def movie_recommend(movie_selected=\"Star Wars (1977)\"):\n",
    "    cols=[\"user_id\",\"movie_id\",\"rating\",\"ts\"]\n",
    "    df=pd.read_csv(\"u.data\",sep=\"\\t\",names=cols).drop('ts',axis=1)\n",
    "    item_cols=[\"movie_id\",\"title\"]+[str(i) for i in range(22)]\n",
    "    df1=pd.read_csv(\"u.item\",encoding=\"ISO-8859-1\",sep=\"|\",names=item_cols)[[\"movie_id\",\"title\"]]\n",
    "    \n",
    "    movie=pd.merge(df,df1,on=\"movie_id\")\n",
    "    \n",
    "    m=movie.pivot_table(index=\"user_id\",columns=\"title\",values=\"rating\")\n",
    "    \n",
    "    corrs=m.corrwith(m[movie_selected])\n",
    "    corrs_df=pd.DataFrame(corrs,columns=[\"correlation\"])\n",
    "    corrs_df[\"rating\"]=movie.groupby(\"title\")[\"rating\"].mean()\n",
    "    corrs_df[\"count\"]=movie['title'].value_counts()\n",
    "    \n",
    "    top_recom=list(corrs_df[corrs_df[\"count\"]>50].sort_values(by=\"correlation\",ascending=False).head(3).index)\n",
    "    top_recom.remove(movie_selected)                        \n",
    "    #ratings=pd.DataFrame(movie.groupby(\"title\")[\"rating\"].mean().sort_values(ascending=False))\n",
    "    print(\"hii\")\n",
    "    return top_recom"
   ]
  },
  {
   "cell_type": "code",
   "execution_count": 7,
   "id": "aa8762eb-18a8-456d-a2a2-4c41688abe19",
   "metadata": {},
   "outputs": [
    {
     "name": "stdout",
     "output_type": "stream",
     "text": [
      "hii\n"
     ]
    }
   ],
   "source": [
    "print(\"hii\")"
   ]
  },
  {
   "cell_type": "code",
   "execution_count": null,
   "id": "a7f95dab-32ff-451d-a985-1a596a21e7c4",
   "metadata": {},
   "outputs": [],
   "source": []
  }
 ],
 "metadata": {
  "kernelspec": {
   "display_name": "Python 3 (ipykernel)",
   "language": "python",
   "name": "python3"
  },
  "language_info": {
   "codemirror_mode": {
    "name": "ipython",
    "version": 3
   },
   "file_extension": ".py",
   "mimetype": "text/x-python",
   "name": "python",
   "nbconvert_exporter": "python",
   "pygments_lexer": "ipython3",
   "version": "3.9.12"
  }
 },
 "nbformat": 4,
 "nbformat_minor": 5
}
